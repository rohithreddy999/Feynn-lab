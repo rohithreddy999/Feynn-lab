{
  "nbformat": 4,
  "nbformat_minor": 0,
  "metadata": {
    "colab": {
      "provenance": [],
      "authorship_tag": "ABX9TyPVe8j3E2yti9Rr5/QBAPUX",
      "include_colab_link": true
    },
    "kernelspec": {
      "name": "python3",
      "display_name": "Python 3"
    },
    "language_info": {
      "name": "python"
    }
  },
  "cells": [
    {
      "cell_type": "markdown",
      "metadata": {
        "id": "view-in-github",
        "colab_type": "text"
      },
      "source": [
        "<a href=\"https://colab.research.google.com/github/rohithreddy999/Feynn-lab/blob/main/Exploring_data.ipynb\" target=\"_parent\"><img src=\"https://colab.research.google.com/assets/colab-badge.svg\" alt=\"Open In Colab\"/></a>"
      ]
    },
    {
      "cell_type": "markdown",
      "source": [
        "IMPORTING LIBRARIES"
      ],
      "metadata": {
        "id": "a666Gb9r6Qpg"
      }
    },
    {
      "cell_type": "code",
      "execution_count": 253,
      "metadata": {
        "id": "2V1pGvLU4wF5"
      },
      "outputs": [],
      "source": [
        "import numpy as np\n",
        "import pandas as pd\n",
        "import seaborn as sns\n",
        "import matplotlib.pyplot as plt"
      ]
    },
    {
      "cell_type": "code",
      "source": [
        "df=pd.read_csv(\"vacation.csv\")"
      ],
      "metadata": {
        "id": "2HQpVHtQ6Pjk"
      },
      "execution_count": 254,
      "outputs": []
    },
    {
      "cell_type": "code",
      "source": [
        "df.head()"
      ],
      "metadata": {
        "colab": {
          "base_uri": "https://localhost:8080/",
          "height": 505
        },
        "id": "G1D2_YVs6Pgw",
        "outputId": "d38a1299-e423-490a-e875-d2f05dc577ff"
      },
      "execution_count": 255,
      "outputs": [
        {
          "output_type": "execute_result",
          "data": {
            "text/plain": [
              "   Gender  Age  Education                Income  Income2  \\\n",
              "0  Female   25        6.0    $30,001 to $60,000   30-60k   \n",
              "1  Female   31        8.0  $120,001 to $150,000    >120k   \n",
              "2    Male   21        3.0   $90,001 to $120,000  90-120k   \n",
              "3  Female   18        2.0    $30,001 to $60,000   30-60k   \n",
              "4    Male   61        3.0     Less than $30,000     <30k   \n",
              "\n",
              "                   Occupation State Relationship.Status  Obligation  \\\n",
              "0  Clerical or service worker   VIC              single    4.800000   \n",
              "1                professional    WA             married    3.300000   \n",
              "2                         NaN   NSW              single    3.400000   \n",
              "3                  unemployed   NSW              single    2.633333   \n",
              "4                     retired    WA             married    3.400000   \n",
              "\n",
              "  Obligation2  ...  entertainment facilities  not care about prices  \\\n",
              "0          Q4  ...                        no                     no   \n",
              "1          Q1  ...                        no                     no   \n",
              "2          Q2  ...                        no                    yes   \n",
              "3          Q1  ...                       yes                     no   \n",
              "4          Q2  ...                        no                     no   \n",
              "\n",
              "  life style of the local people intense experience of nature  \\\n",
              "0                             no                           no   \n",
              "1                            yes                           no   \n",
              "2                            yes                           no   \n",
              "3                             no                          yes   \n",
              "4                            yes                           no   \n",
              "\n",
              "  cosiness/familiar atmosphere maintain unspoilt surroundings  \\\n",
              "0                           no                             no   \n",
              "1                           no                             no   \n",
              "2                          yes                             no   \n",
              "3                           no                             no   \n",
              "4                           no                            yes   \n",
              "\n",
              "  everything organised unspoilt nature/natural landscape cultural offers  \\\n",
              "0                   no                                no              no   \n",
              "1                   no                                no              no   \n",
              "2                   no                                no             yes   \n",
              "3                   no                                no              no   \n",
              "4                   no                                no              no   \n",
              "\n",
              "  change of surroundings  \n",
              "0                     no  \n",
              "1                    yes  \n",
              "2                     no  \n",
              "3                    yes  \n",
              "4                     no  \n",
              "\n",
              "[5 rows x 32 columns]"
            ],
            "text/html": [
              "\n",
              "  <div id=\"df-5bbb1eb1-2839-4395-83e6-8b6313ec557e\">\n",
              "    <div class=\"colab-df-container\">\n",
              "      <div>\n",
              "<style scoped>\n",
              "    .dataframe tbody tr th:only-of-type {\n",
              "        vertical-align: middle;\n",
              "    }\n",
              "\n",
              "    .dataframe tbody tr th {\n",
              "        vertical-align: top;\n",
              "    }\n",
              "\n",
              "    .dataframe thead th {\n",
              "        text-align: right;\n",
              "    }\n",
              "</style>\n",
              "<table border=\"1\" class=\"dataframe\">\n",
              "  <thead>\n",
              "    <tr style=\"text-align: right;\">\n",
              "      <th></th>\n",
              "      <th>Gender</th>\n",
              "      <th>Age</th>\n",
              "      <th>Education</th>\n",
              "      <th>Income</th>\n",
              "      <th>Income2</th>\n",
              "      <th>Occupation</th>\n",
              "      <th>State</th>\n",
              "      <th>Relationship.Status</th>\n",
              "      <th>Obligation</th>\n",
              "      <th>Obligation2</th>\n",
              "      <th>...</th>\n",
              "      <th>entertainment facilities</th>\n",
              "      <th>not care about prices</th>\n",
              "      <th>life style of the local people</th>\n",
              "      <th>intense experience of nature</th>\n",
              "      <th>cosiness/familiar atmosphere</th>\n",
              "      <th>maintain unspoilt surroundings</th>\n",
              "      <th>everything organised</th>\n",
              "      <th>unspoilt nature/natural landscape</th>\n",
              "      <th>cultural offers</th>\n",
              "      <th>change of surroundings</th>\n",
              "    </tr>\n",
              "  </thead>\n",
              "  <tbody>\n",
              "    <tr>\n",
              "      <th>0</th>\n",
              "      <td>Female</td>\n",
              "      <td>25</td>\n",
              "      <td>6.0</td>\n",
              "      <td>$30,001 to $60,000</td>\n",
              "      <td>30-60k</td>\n",
              "      <td>Clerical or service worker</td>\n",
              "      <td>VIC</td>\n",
              "      <td>single</td>\n",
              "      <td>4.800000</td>\n",
              "      <td>Q4</td>\n",
              "      <td>...</td>\n",
              "      <td>no</td>\n",
              "      <td>no</td>\n",
              "      <td>no</td>\n",
              "      <td>no</td>\n",
              "      <td>no</td>\n",
              "      <td>no</td>\n",
              "      <td>no</td>\n",
              "      <td>no</td>\n",
              "      <td>no</td>\n",
              "      <td>no</td>\n",
              "    </tr>\n",
              "    <tr>\n",
              "      <th>1</th>\n",
              "      <td>Female</td>\n",
              "      <td>31</td>\n",
              "      <td>8.0</td>\n",
              "      <td>$120,001 to $150,000</td>\n",
              "      <td>&gt;120k</td>\n",
              "      <td>professional</td>\n",
              "      <td>WA</td>\n",
              "      <td>married</td>\n",
              "      <td>3.300000</td>\n",
              "      <td>Q1</td>\n",
              "      <td>...</td>\n",
              "      <td>no</td>\n",
              "      <td>no</td>\n",
              "      <td>yes</td>\n",
              "      <td>no</td>\n",
              "      <td>no</td>\n",
              "      <td>no</td>\n",
              "      <td>no</td>\n",
              "      <td>no</td>\n",
              "      <td>no</td>\n",
              "      <td>yes</td>\n",
              "    </tr>\n",
              "    <tr>\n",
              "      <th>2</th>\n",
              "      <td>Male</td>\n",
              "      <td>21</td>\n",
              "      <td>3.0</td>\n",
              "      <td>$90,001 to $120,000</td>\n",
              "      <td>90-120k</td>\n",
              "      <td>NaN</td>\n",
              "      <td>NSW</td>\n",
              "      <td>single</td>\n",
              "      <td>3.400000</td>\n",
              "      <td>Q2</td>\n",
              "      <td>...</td>\n",
              "      <td>no</td>\n",
              "      <td>yes</td>\n",
              "      <td>yes</td>\n",
              "      <td>no</td>\n",
              "      <td>yes</td>\n",
              "      <td>no</td>\n",
              "      <td>no</td>\n",
              "      <td>no</td>\n",
              "      <td>yes</td>\n",
              "      <td>no</td>\n",
              "    </tr>\n",
              "    <tr>\n",
              "      <th>3</th>\n",
              "      <td>Female</td>\n",
              "      <td>18</td>\n",
              "      <td>2.0</td>\n",
              "      <td>$30,001 to $60,000</td>\n",
              "      <td>30-60k</td>\n",
              "      <td>unemployed</td>\n",
              "      <td>NSW</td>\n",
              "      <td>single</td>\n",
              "      <td>2.633333</td>\n",
              "      <td>Q1</td>\n",
              "      <td>...</td>\n",
              "      <td>yes</td>\n",
              "      <td>no</td>\n",
              "      <td>no</td>\n",
              "      <td>yes</td>\n",
              "      <td>no</td>\n",
              "      <td>no</td>\n",
              "      <td>no</td>\n",
              "      <td>no</td>\n",
              "      <td>no</td>\n",
              "      <td>yes</td>\n",
              "    </tr>\n",
              "    <tr>\n",
              "      <th>4</th>\n",
              "      <td>Male</td>\n",
              "      <td>61</td>\n",
              "      <td>3.0</td>\n",
              "      <td>Less than $30,000</td>\n",
              "      <td>&lt;30k</td>\n",
              "      <td>retired</td>\n",
              "      <td>WA</td>\n",
              "      <td>married</td>\n",
              "      <td>3.400000</td>\n",
              "      <td>Q2</td>\n",
              "      <td>...</td>\n",
              "      <td>no</td>\n",
              "      <td>no</td>\n",
              "      <td>yes</td>\n",
              "      <td>no</td>\n",
              "      <td>no</td>\n",
              "      <td>yes</td>\n",
              "      <td>no</td>\n",
              "      <td>no</td>\n",
              "      <td>no</td>\n",
              "      <td>no</td>\n",
              "    </tr>\n",
              "  </tbody>\n",
              "</table>\n",
              "<p>5 rows × 32 columns</p>\n",
              "</div>\n",
              "      <button class=\"colab-df-convert\" onclick=\"convertToInteractive('df-5bbb1eb1-2839-4395-83e6-8b6313ec557e')\"\n",
              "              title=\"Convert this dataframe to an interactive table.\"\n",
              "              style=\"display:none;\">\n",
              "        \n",
              "  <svg xmlns=\"http://www.w3.org/2000/svg\" height=\"24px\"viewBox=\"0 0 24 24\"\n",
              "       width=\"24px\">\n",
              "    <path d=\"M0 0h24v24H0V0z\" fill=\"none\"/>\n",
              "    <path d=\"M18.56 5.44l.94 2.06.94-2.06 2.06-.94-2.06-.94-.94-2.06-.94 2.06-2.06.94zm-11 1L8.5 8.5l.94-2.06 2.06-.94-2.06-.94L8.5 2.5l-.94 2.06-2.06.94zm10 10l.94 2.06.94-2.06 2.06-.94-2.06-.94-.94-2.06-.94 2.06-2.06.94z\"/><path d=\"M17.41 7.96l-1.37-1.37c-.4-.4-.92-.59-1.43-.59-.52 0-1.04.2-1.43.59L10.3 9.45l-7.72 7.72c-.78.78-.78 2.05 0 2.83L4 21.41c.39.39.9.59 1.41.59.51 0 1.02-.2 1.41-.59l7.78-7.78 2.81-2.81c.8-.78.8-2.07 0-2.86zM5.41 20L4 18.59l7.72-7.72 1.47 1.35L5.41 20z\"/>\n",
              "  </svg>\n",
              "      </button>\n",
              "      \n",
              "  <style>\n",
              "    .colab-df-container {\n",
              "      display:flex;\n",
              "      flex-wrap:wrap;\n",
              "      gap: 12px;\n",
              "    }\n",
              "\n",
              "    .colab-df-convert {\n",
              "      background-color: #E8F0FE;\n",
              "      border: none;\n",
              "      border-radius: 50%;\n",
              "      cursor: pointer;\n",
              "      display: none;\n",
              "      fill: #1967D2;\n",
              "      height: 32px;\n",
              "      padding: 0 0 0 0;\n",
              "      width: 32px;\n",
              "    }\n",
              "\n",
              "    .colab-df-convert:hover {\n",
              "      background-color: #E2EBFA;\n",
              "      box-shadow: 0px 1px 2px rgba(60, 64, 67, 0.3), 0px 1px 3px 1px rgba(60, 64, 67, 0.15);\n",
              "      fill: #174EA6;\n",
              "    }\n",
              "\n",
              "    [theme=dark] .colab-df-convert {\n",
              "      background-color: #3B4455;\n",
              "      fill: #D2E3FC;\n",
              "    }\n",
              "\n",
              "    [theme=dark] .colab-df-convert:hover {\n",
              "      background-color: #434B5C;\n",
              "      box-shadow: 0px 1px 3px 1px rgba(0, 0, 0, 0.15);\n",
              "      filter: drop-shadow(0px 1px 2px rgba(0, 0, 0, 0.3));\n",
              "      fill: #FFFFFF;\n",
              "    }\n",
              "  </style>\n",
              "\n",
              "      <script>\n",
              "        const buttonEl =\n",
              "          document.querySelector('#df-5bbb1eb1-2839-4395-83e6-8b6313ec557e button.colab-df-convert');\n",
              "        buttonEl.style.display =\n",
              "          google.colab.kernel.accessAllowed ? 'block' : 'none';\n",
              "\n",
              "        async function convertToInteractive(key) {\n",
              "          const element = document.querySelector('#df-5bbb1eb1-2839-4395-83e6-8b6313ec557e');\n",
              "          const dataTable =\n",
              "            await google.colab.kernel.invokeFunction('convertToInteractive',\n",
              "                                                     [key], {});\n",
              "          if (!dataTable) return;\n",
              "\n",
              "          const docLinkHtml = 'Like what you see? Visit the ' +\n",
              "            '<a target=\"_blank\" href=https://colab.research.google.com/notebooks/data_table.ipynb>data table notebook</a>'\n",
              "            + ' to learn more about interactive tables.';\n",
              "          element.innerHTML = '';\n",
              "          dataTable['output_type'] = 'display_data';\n",
              "          await google.colab.output.renderOutput(dataTable, element);\n",
              "          const docLink = document.createElement('div');\n",
              "          docLink.innerHTML = docLinkHtml;\n",
              "          element.appendChild(docLink);\n",
              "        }\n",
              "      </script>\n",
              "    </div>\n",
              "  </div>\n",
              "  "
            ]
          },
          "metadata": {},
          "execution_count": 255
        }
      ]
    },
    {
      "cell_type": "code",
      "source": [
        "df.tail()"
      ],
      "metadata": {
        "colab": {
          "base_uri": "https://localhost:8080/",
          "height": 488
        },
        "id": "jDEvaia76Pc4",
        "outputId": "09857774-d098-4860-91c1-6fdf9a8e52d5"
      },
      "execution_count": 256,
      "outputs": [
        {
          "output_type": "execute_result",
          "data": {
            "text/plain": [
              "     Gender  Age  Education                Income Income2  \\\n",
              "995    Male   51        3.0    $30,001 to $60,000  30-60k   \n",
              "996    Male   58        4.0    $60,001 to $90,000  60-90k   \n",
              "997    Male   41        8.0    $60,001 to $90,000  60-90k   \n",
              "998  Female   42        3.0                   NaN     NaN   \n",
              "999  Female   32        6.0  $120,001 to $150,000   >120k   \n",
              "\n",
              "                   Occupation State    Relationship.Status  Obligation  \\\n",
              "995  manager or administrator   VIC  separated or divorced    2.366667   \n",
              "996      small business owner    WA  living with a partner    4.400000   \n",
              "997              professional   QLD                married    3.866667   \n",
              "998              professional   VIC  living with a partner    4.000000   \n",
              "999  manager or administrator    WA  living with a partner    2.333333   \n",
              "\n",
              "    Obligation2  ...  entertainment facilities  not care about prices  \\\n",
              "995          Q1  ...                       yes                     no   \n",
              "996          Q4  ...                        no                     no   \n",
              "997          Q3  ...                        no                     no   \n",
              "998          Q3  ...                        no                     no   \n",
              "999          Q1  ...                        no                     no   \n",
              "\n",
              "    life style of the local people intense experience of nature  \\\n",
              "995                            yes                          yes   \n",
              "996                            yes                          yes   \n",
              "997                             no                           no   \n",
              "998                             no                           no   \n",
              "999                            yes                           no   \n",
              "\n",
              "    cosiness/familiar atmosphere maintain unspoilt surroundings  \\\n",
              "995                           no                            yes   \n",
              "996                           no                            yes   \n",
              "997                           no                             no   \n",
              "998                           no                             no   \n",
              "999                           no                             no   \n",
              "\n",
              "    everything organised unspoilt nature/natural landscape cultural offers  \\\n",
              "995                   no                                no             yes   \n",
              "996                   no                               yes             yes   \n",
              "997                   no                                no              no   \n",
              "998                   no                                no              no   \n",
              "999                   no                                no              no   \n",
              "\n",
              "    change of surroundings  \n",
              "995                    yes  \n",
              "996                     no  \n",
              "997                    yes  \n",
              "998                     no  \n",
              "999                    yes  \n",
              "\n",
              "[5 rows x 32 columns]"
            ],
            "text/html": [
              "\n",
              "  <div id=\"df-be40c2ad-8c6c-45a2-b3c7-b3005e190512\">\n",
              "    <div class=\"colab-df-container\">\n",
              "      <div>\n",
              "<style scoped>\n",
              "    .dataframe tbody tr th:only-of-type {\n",
              "        vertical-align: middle;\n",
              "    }\n",
              "\n",
              "    .dataframe tbody tr th {\n",
              "        vertical-align: top;\n",
              "    }\n",
              "\n",
              "    .dataframe thead th {\n",
              "        text-align: right;\n",
              "    }\n",
              "</style>\n",
              "<table border=\"1\" class=\"dataframe\">\n",
              "  <thead>\n",
              "    <tr style=\"text-align: right;\">\n",
              "      <th></th>\n",
              "      <th>Gender</th>\n",
              "      <th>Age</th>\n",
              "      <th>Education</th>\n",
              "      <th>Income</th>\n",
              "      <th>Income2</th>\n",
              "      <th>Occupation</th>\n",
              "      <th>State</th>\n",
              "      <th>Relationship.Status</th>\n",
              "      <th>Obligation</th>\n",
              "      <th>Obligation2</th>\n",
              "      <th>...</th>\n",
              "      <th>entertainment facilities</th>\n",
              "      <th>not care about prices</th>\n",
              "      <th>life style of the local people</th>\n",
              "      <th>intense experience of nature</th>\n",
              "      <th>cosiness/familiar atmosphere</th>\n",
              "      <th>maintain unspoilt surroundings</th>\n",
              "      <th>everything organised</th>\n",
              "      <th>unspoilt nature/natural landscape</th>\n",
              "      <th>cultural offers</th>\n",
              "      <th>change of surroundings</th>\n",
              "    </tr>\n",
              "  </thead>\n",
              "  <tbody>\n",
              "    <tr>\n",
              "      <th>995</th>\n",
              "      <td>Male</td>\n",
              "      <td>51</td>\n",
              "      <td>3.0</td>\n",
              "      <td>$30,001 to $60,000</td>\n",
              "      <td>30-60k</td>\n",
              "      <td>manager or administrator</td>\n",
              "      <td>VIC</td>\n",
              "      <td>separated or divorced</td>\n",
              "      <td>2.366667</td>\n",
              "      <td>Q1</td>\n",
              "      <td>...</td>\n",
              "      <td>yes</td>\n",
              "      <td>no</td>\n",
              "      <td>yes</td>\n",
              "      <td>yes</td>\n",
              "      <td>no</td>\n",
              "      <td>yes</td>\n",
              "      <td>no</td>\n",
              "      <td>no</td>\n",
              "      <td>yes</td>\n",
              "      <td>yes</td>\n",
              "    </tr>\n",
              "    <tr>\n",
              "      <th>996</th>\n",
              "      <td>Male</td>\n",
              "      <td>58</td>\n",
              "      <td>4.0</td>\n",
              "      <td>$60,001 to $90,000</td>\n",
              "      <td>60-90k</td>\n",
              "      <td>small business owner</td>\n",
              "      <td>WA</td>\n",
              "      <td>living with a partner</td>\n",
              "      <td>4.400000</td>\n",
              "      <td>Q4</td>\n",
              "      <td>...</td>\n",
              "      <td>no</td>\n",
              "      <td>no</td>\n",
              "      <td>yes</td>\n",
              "      <td>yes</td>\n",
              "      <td>no</td>\n",
              "      <td>yes</td>\n",
              "      <td>no</td>\n",
              "      <td>yes</td>\n",
              "      <td>yes</td>\n",
              "      <td>no</td>\n",
              "    </tr>\n",
              "    <tr>\n",
              "      <th>997</th>\n",
              "      <td>Male</td>\n",
              "      <td>41</td>\n",
              "      <td>8.0</td>\n",
              "      <td>$60,001 to $90,000</td>\n",
              "      <td>60-90k</td>\n",
              "      <td>professional</td>\n",
              "      <td>QLD</td>\n",
              "      <td>married</td>\n",
              "      <td>3.866667</td>\n",
              "      <td>Q3</td>\n",
              "      <td>...</td>\n",
              "      <td>no</td>\n",
              "      <td>no</td>\n",
              "      <td>no</td>\n",
              "      <td>no</td>\n",
              "      <td>no</td>\n",
              "      <td>no</td>\n",
              "      <td>no</td>\n",
              "      <td>no</td>\n",
              "      <td>no</td>\n",
              "      <td>yes</td>\n",
              "    </tr>\n",
              "    <tr>\n",
              "      <th>998</th>\n",
              "      <td>Female</td>\n",
              "      <td>42</td>\n",
              "      <td>3.0</td>\n",
              "      <td>NaN</td>\n",
              "      <td>NaN</td>\n",
              "      <td>professional</td>\n",
              "      <td>VIC</td>\n",
              "      <td>living with a partner</td>\n",
              "      <td>4.000000</td>\n",
              "      <td>Q3</td>\n",
              "      <td>...</td>\n",
              "      <td>no</td>\n",
              "      <td>no</td>\n",
              "      <td>no</td>\n",
              "      <td>no</td>\n",
              "      <td>no</td>\n",
              "      <td>no</td>\n",
              "      <td>no</td>\n",
              "      <td>no</td>\n",
              "      <td>no</td>\n",
              "      <td>no</td>\n",
              "    </tr>\n",
              "    <tr>\n",
              "      <th>999</th>\n",
              "      <td>Female</td>\n",
              "      <td>32</td>\n",
              "      <td>6.0</td>\n",
              "      <td>$120,001 to $150,000</td>\n",
              "      <td>&gt;120k</td>\n",
              "      <td>manager or administrator</td>\n",
              "      <td>WA</td>\n",
              "      <td>living with a partner</td>\n",
              "      <td>2.333333</td>\n",
              "      <td>Q1</td>\n",
              "      <td>...</td>\n",
              "      <td>no</td>\n",
              "      <td>no</td>\n",
              "      <td>yes</td>\n",
              "      <td>no</td>\n",
              "      <td>no</td>\n",
              "      <td>no</td>\n",
              "      <td>no</td>\n",
              "      <td>no</td>\n",
              "      <td>no</td>\n",
              "      <td>yes</td>\n",
              "    </tr>\n",
              "  </tbody>\n",
              "</table>\n",
              "<p>5 rows × 32 columns</p>\n",
              "</div>\n",
              "      <button class=\"colab-df-convert\" onclick=\"convertToInteractive('df-be40c2ad-8c6c-45a2-b3c7-b3005e190512')\"\n",
              "              title=\"Convert this dataframe to an interactive table.\"\n",
              "              style=\"display:none;\">\n",
              "        \n",
              "  <svg xmlns=\"http://www.w3.org/2000/svg\" height=\"24px\"viewBox=\"0 0 24 24\"\n",
              "       width=\"24px\">\n",
              "    <path d=\"M0 0h24v24H0V0z\" fill=\"none\"/>\n",
              "    <path d=\"M18.56 5.44l.94 2.06.94-2.06 2.06-.94-2.06-.94-.94-2.06-.94 2.06-2.06.94zm-11 1L8.5 8.5l.94-2.06 2.06-.94-2.06-.94L8.5 2.5l-.94 2.06-2.06.94zm10 10l.94 2.06.94-2.06 2.06-.94-2.06-.94-.94-2.06-.94 2.06-2.06.94z\"/><path d=\"M17.41 7.96l-1.37-1.37c-.4-.4-.92-.59-1.43-.59-.52 0-1.04.2-1.43.59L10.3 9.45l-7.72 7.72c-.78.78-.78 2.05 0 2.83L4 21.41c.39.39.9.59 1.41.59.51 0 1.02-.2 1.41-.59l7.78-7.78 2.81-2.81c.8-.78.8-2.07 0-2.86zM5.41 20L4 18.59l7.72-7.72 1.47 1.35L5.41 20z\"/>\n",
              "  </svg>\n",
              "      </button>\n",
              "      \n",
              "  <style>\n",
              "    .colab-df-container {\n",
              "      display:flex;\n",
              "      flex-wrap:wrap;\n",
              "      gap: 12px;\n",
              "    }\n",
              "\n",
              "    .colab-df-convert {\n",
              "      background-color: #E8F0FE;\n",
              "      border: none;\n",
              "      border-radius: 50%;\n",
              "      cursor: pointer;\n",
              "      display: none;\n",
              "      fill: #1967D2;\n",
              "      height: 32px;\n",
              "      padding: 0 0 0 0;\n",
              "      width: 32px;\n",
              "    }\n",
              "\n",
              "    .colab-df-convert:hover {\n",
              "      background-color: #E2EBFA;\n",
              "      box-shadow: 0px 1px 2px rgba(60, 64, 67, 0.3), 0px 1px 3px 1px rgba(60, 64, 67, 0.15);\n",
              "      fill: #174EA6;\n",
              "    }\n",
              "\n",
              "    [theme=dark] .colab-df-convert {\n",
              "      background-color: #3B4455;\n",
              "      fill: #D2E3FC;\n",
              "    }\n",
              "\n",
              "    [theme=dark] .colab-df-convert:hover {\n",
              "      background-color: #434B5C;\n",
              "      box-shadow: 0px 1px 3px 1px rgba(0, 0, 0, 0.15);\n",
              "      filter: drop-shadow(0px 1px 2px rgba(0, 0, 0, 0.3));\n",
              "      fill: #FFFFFF;\n",
              "    }\n",
              "  </style>\n",
              "\n",
              "      <script>\n",
              "        const buttonEl =\n",
              "          document.querySelector('#df-be40c2ad-8c6c-45a2-b3c7-b3005e190512 button.colab-df-convert');\n",
              "        buttonEl.style.display =\n",
              "          google.colab.kernel.accessAllowed ? 'block' : 'none';\n",
              "\n",
              "        async function convertToInteractive(key) {\n",
              "          const element = document.querySelector('#df-be40c2ad-8c6c-45a2-b3c7-b3005e190512');\n",
              "          const dataTable =\n",
              "            await google.colab.kernel.invokeFunction('convertToInteractive',\n",
              "                                                     [key], {});\n",
              "          if (!dataTable) return;\n",
              "\n",
              "          const docLinkHtml = 'Like what you see? Visit the ' +\n",
              "            '<a target=\"_blank\" href=https://colab.research.google.com/notebooks/data_table.ipynb>data table notebook</a>'\n",
              "            + ' to learn more about interactive tables.';\n",
              "          element.innerHTML = '';\n",
              "          dataTable['output_type'] = 'display_data';\n",
              "          await google.colab.output.renderOutput(dataTable, element);\n",
              "          const docLink = document.createElement('div');\n",
              "          docLink.innerHTML = docLinkHtml;\n",
              "          element.appendChild(docLink);\n",
              "        }\n",
              "      </script>\n",
              "    </div>\n",
              "  </div>\n",
              "  "
            ]
          },
          "metadata": {},
          "execution_count": 256
        }
      ]
    },
    {
      "cell_type": "code",
      "source": [
        "df.shape"
      ],
      "metadata": {
        "colab": {
          "base_uri": "https://localhost:8080/"
        },
        "id": "5W8l4d4I6PaS",
        "outputId": "6ce2c68f-15f7-49a8-cbdb-3505181acc69"
      },
      "execution_count": 257,
      "outputs": [
        {
          "output_type": "execute_result",
          "data": {
            "text/plain": [
              "(1000, 32)"
            ]
          },
          "metadata": {},
          "execution_count": 257
        }
      ]
    },
    {
      "cell_type": "code",
      "source": [
        "df.info()"
      ],
      "metadata": {
        "colab": {
          "base_uri": "https://localhost:8080/"
        },
        "id": "qXAP8eAC6PYE",
        "outputId": "3489b3b3-7c48-48ec-c307-592ad3751561"
      },
      "execution_count": 258,
      "outputs": [
        {
          "output_type": "stream",
          "name": "stdout",
          "text": [
            "<class 'pandas.core.frame.DataFrame'>\n",
            "RangeIndex: 1000 entries, 0 to 999\n",
            "Data columns (total 32 columns):\n",
            " #   Column                             Non-Null Count  Dtype  \n",
            "---  ------                             --------------  -----  \n",
            " 0   Gender                             1000 non-null   object \n",
            " 1   Age                                1000 non-null   int64  \n",
            " 2   Education                          992 non-null    float64\n",
            " 3   Income                             934 non-null    object \n",
            " 4   Income2                            934 non-null    object \n",
            " 5   Occupation                         941 non-null    object \n",
            " 6   State                              1000 non-null   object \n",
            " 7   Relationship.Status                996 non-null    object \n",
            " 8   Obligation                         1000 non-null   float64\n",
            " 9   Obligation2                        1000 non-null   object \n",
            " 10  NEP                                1000 non-null   float64\n",
            " 11  Vacation.Behaviour                 975 non-null    float64\n",
            " 12  rest and relax                     1000 non-null   object \n",
            " 13  luxury / be spoilt                 1000 non-null   object \n",
            " 14  do sports                          1000 non-null   object \n",
            " 15  excitement, a challenge            1000 non-null   object \n",
            " 16  not exceed planned budget          1000 non-null   object \n",
            " 17  realise creativity                 1000 non-null   object \n",
            " 18  fun and entertainment              1000 non-null   object \n",
            " 19  good company                       1000 non-null   object \n",
            " 20  health and beauty                  1000 non-null   object \n",
            " 21  free-and-easy-going                1000 non-null   object \n",
            " 22  entertainment facilities           1000 non-null   object \n",
            " 23  not care about prices              1000 non-null   object \n",
            " 24  life style of the local people     1000 non-null   object \n",
            " 25  intense experience of nature       1000 non-null   object \n",
            " 26  cosiness/familiar atmosphere       1000 non-null   object \n",
            " 27  maintain unspoilt surroundings     1000 non-null   object \n",
            " 28  everything organised               1000 non-null   object \n",
            " 29  unspoilt nature/natural landscape  1000 non-null   object \n",
            " 30  cultural offers                    1000 non-null   object \n",
            " 31  change of surroundings             1000 non-null   object \n",
            "dtypes: float64(4), int64(1), object(27)\n",
            "memory usage: 250.1+ KB\n"
          ]
        }
      ]
    },
    {
      "cell_type": "code",
      "source": [
        "import pandas as pd\n",
        "vac_summary = df.iloc[:, [0, 1, 3, 4]].describe()\n",
        "print(vac_summary)"
      ],
      "metadata": {
        "colab": {
          "base_uri": "https://localhost:8080/"
        },
        "id": "NHcnoEf_6PV6",
        "outputId": "9c836b86-4915-4c9c-f557-6f2304b2103a"
      },
      "execution_count": 259,
      "outputs": [
        {
          "output_type": "stream",
          "name": "stdout",
          "text": [
            "               Age\n",
            "count  1000.000000\n",
            "mean     44.168000\n",
            "std      14.539228\n",
            "min      18.000000\n",
            "25%      32.000000\n",
            "50%      42.000000\n",
            "75%      57.000000\n",
            "max     105.000000\n"
          ]
        }
      ]
    },
    {
      "cell_type": "code",
      "source": [
        "inc2 = df['Income2']\n",
        "lev = inc2.unique()\n",
        "print(lev)\n",
        "lev = lev[[0, 2, 3, 4, 1]]\n",
        "print(lev)\n",
        "inc2 = pd.Categorical(inc2, categories=lev, ordered=True)"
      ],
      "metadata": {
        "colab": {
          "base_uri": "https://localhost:8080/"
        },
        "id": "6k6w1Jtc6PTt",
        "outputId": "ee9e2d02-f8ca-4459-9a72-3c6896f6a3ba"
      },
      "execution_count": 260,
      "outputs": [
        {
          "output_type": "stream",
          "name": "stdout",
          "text": [
            "['30-60k' '>120k' '90-120k' '<30k' '60-90k' nan]\n",
            "['30-60k' '90-120k' '<30k' '60-90k' '>120k']\n"
          ]
        }
      ]
    },
    {
      "cell_type": "code",
      "source": [
        "pd.crosstab(df['Income2'], inc2)"
      ],
      "metadata": {
        "colab": {
          "base_uri": "https://localhost:8080/",
          "height": 238
        },
        "id": "wShy5EOh6PRj",
        "outputId": "35e90b3e-98cc-4774-ef35-ccaa913aaceb"
      },
      "execution_count": 261,
      "outputs": [
        {
          "output_type": "execute_result",
          "data": {
            "text/plain": [
              "col_0    30-60k  90-120k  <30k  60-90k  >120k\n",
              "Income2                                      \n",
              "30-60k      265        0     0       0      0\n",
              "60-90k        0        0     0     233      0\n",
              "90-120k       0      146     0       0      0\n",
              "<30k          0        0   150       0      0\n",
              ">120k         0        0     0       0    140"
            ],
            "text/html": [
              "\n",
              "  <div id=\"df-276d1286-5c68-47f3-aecf-b6124c1fec6e\">\n",
              "    <div class=\"colab-df-container\">\n",
              "      <div>\n",
              "<style scoped>\n",
              "    .dataframe tbody tr th:only-of-type {\n",
              "        vertical-align: middle;\n",
              "    }\n",
              "\n",
              "    .dataframe tbody tr th {\n",
              "        vertical-align: top;\n",
              "    }\n",
              "\n",
              "    .dataframe thead th {\n",
              "        text-align: right;\n",
              "    }\n",
              "</style>\n",
              "<table border=\"1\" class=\"dataframe\">\n",
              "  <thead>\n",
              "    <tr style=\"text-align: right;\">\n",
              "      <th>col_0</th>\n",
              "      <th>30-60k</th>\n",
              "      <th>90-120k</th>\n",
              "      <th>&lt;30k</th>\n",
              "      <th>60-90k</th>\n",
              "      <th>&gt;120k</th>\n",
              "    </tr>\n",
              "    <tr>\n",
              "      <th>Income2</th>\n",
              "      <th></th>\n",
              "      <th></th>\n",
              "      <th></th>\n",
              "      <th></th>\n",
              "      <th></th>\n",
              "    </tr>\n",
              "  </thead>\n",
              "  <tbody>\n",
              "    <tr>\n",
              "      <th>30-60k</th>\n",
              "      <td>265</td>\n",
              "      <td>0</td>\n",
              "      <td>0</td>\n",
              "      <td>0</td>\n",
              "      <td>0</td>\n",
              "    </tr>\n",
              "    <tr>\n",
              "      <th>60-90k</th>\n",
              "      <td>0</td>\n",
              "      <td>0</td>\n",
              "      <td>0</td>\n",
              "      <td>233</td>\n",
              "      <td>0</td>\n",
              "    </tr>\n",
              "    <tr>\n",
              "      <th>90-120k</th>\n",
              "      <td>0</td>\n",
              "      <td>146</td>\n",
              "      <td>0</td>\n",
              "      <td>0</td>\n",
              "      <td>0</td>\n",
              "    </tr>\n",
              "    <tr>\n",
              "      <th>&lt;30k</th>\n",
              "      <td>0</td>\n",
              "      <td>0</td>\n",
              "      <td>150</td>\n",
              "      <td>0</td>\n",
              "      <td>0</td>\n",
              "    </tr>\n",
              "    <tr>\n",
              "      <th>&gt;120k</th>\n",
              "      <td>0</td>\n",
              "      <td>0</td>\n",
              "      <td>0</td>\n",
              "      <td>0</td>\n",
              "      <td>140</td>\n",
              "    </tr>\n",
              "  </tbody>\n",
              "</table>\n",
              "</div>\n",
              "      <button class=\"colab-df-convert\" onclick=\"convertToInteractive('df-276d1286-5c68-47f3-aecf-b6124c1fec6e')\"\n",
              "              title=\"Convert this dataframe to an interactive table.\"\n",
              "              style=\"display:none;\">\n",
              "        \n",
              "  <svg xmlns=\"http://www.w3.org/2000/svg\" height=\"24px\"viewBox=\"0 0 24 24\"\n",
              "       width=\"24px\">\n",
              "    <path d=\"M0 0h24v24H0V0z\" fill=\"none\"/>\n",
              "    <path d=\"M18.56 5.44l.94 2.06.94-2.06 2.06-.94-2.06-.94-.94-2.06-.94 2.06-2.06.94zm-11 1L8.5 8.5l.94-2.06 2.06-.94-2.06-.94L8.5 2.5l-.94 2.06-2.06.94zm10 10l.94 2.06.94-2.06 2.06-.94-2.06-.94-.94-2.06-.94 2.06-2.06.94z\"/><path d=\"M17.41 7.96l-1.37-1.37c-.4-.4-.92-.59-1.43-.59-.52 0-1.04.2-1.43.59L10.3 9.45l-7.72 7.72c-.78.78-.78 2.05 0 2.83L4 21.41c.39.39.9.59 1.41.59.51 0 1.02-.2 1.41-.59l7.78-7.78 2.81-2.81c.8-.78.8-2.07 0-2.86zM5.41 20L4 18.59l7.72-7.72 1.47 1.35L5.41 20z\"/>\n",
              "  </svg>\n",
              "      </button>\n",
              "      \n",
              "  <style>\n",
              "    .colab-df-container {\n",
              "      display:flex;\n",
              "      flex-wrap:wrap;\n",
              "      gap: 12px;\n",
              "    }\n",
              "\n",
              "    .colab-df-convert {\n",
              "      background-color: #E8F0FE;\n",
              "      border: none;\n",
              "      border-radius: 50%;\n",
              "      cursor: pointer;\n",
              "      display: none;\n",
              "      fill: #1967D2;\n",
              "      height: 32px;\n",
              "      padding: 0 0 0 0;\n",
              "      width: 32px;\n",
              "    }\n",
              "\n",
              "    .colab-df-convert:hover {\n",
              "      background-color: #E2EBFA;\n",
              "      box-shadow: 0px 1px 2px rgba(60, 64, 67, 0.3), 0px 1px 3px 1px rgba(60, 64, 67, 0.15);\n",
              "      fill: #174EA6;\n",
              "    }\n",
              "\n",
              "    [theme=dark] .colab-df-convert {\n",
              "      background-color: #3B4455;\n",
              "      fill: #D2E3FC;\n",
              "    }\n",
              "\n",
              "    [theme=dark] .colab-df-convert:hover {\n",
              "      background-color: #434B5C;\n",
              "      box-shadow: 0px 1px 3px 1px rgba(0, 0, 0, 0.15);\n",
              "      filter: drop-shadow(0px 1px 2px rgba(0, 0, 0, 0.3));\n",
              "      fill: #FFFFFF;\n",
              "    }\n",
              "  </style>\n",
              "\n",
              "      <script>\n",
              "        const buttonEl =\n",
              "          document.querySelector('#df-276d1286-5c68-47f3-aecf-b6124c1fec6e button.colab-df-convert');\n",
              "        buttonEl.style.display =\n",
              "          google.colab.kernel.accessAllowed ? 'block' : 'none';\n",
              "\n",
              "        async function convertToInteractive(key) {\n",
              "          const element = document.querySelector('#df-276d1286-5c68-47f3-aecf-b6124c1fec6e');\n",
              "          const dataTable =\n",
              "            await google.colab.kernel.invokeFunction('convertToInteractive',\n",
              "                                                     [key], {});\n",
              "          if (!dataTable) return;\n",
              "\n",
              "          const docLinkHtml = 'Like what you see? Visit the ' +\n",
              "            '<a target=\"_blank\" href=https://colab.research.google.com/notebooks/data_table.ipynb>data table notebook</a>'\n",
              "            + ' to learn more about interactive tables.';\n",
              "          element.innerHTML = '';\n",
              "          dataTable['output_type'] = 'display_data';\n",
              "          await google.colab.output.renderOutput(dataTable, element);\n",
              "          const docLink = document.createElement('div');\n",
              "          docLink.innerHTML = docLinkHtml;\n",
              "          element.appendChild(docLink);\n",
              "        }\n",
              "      </script>\n",
              "    </div>\n",
              "  </div>\n",
              "  "
            ]
          },
          "metadata": {},
          "execution_count": 261
        }
      ]
    },
    {
      "cell_type": "code",
      "source": [
        "df['Income2'] = inc2"
      ],
      "metadata": {
        "id": "Ff81RxZQ6PO-"
      },
      "execution_count": 262,
      "outputs": []
    },
    {
      "cell_type": "code",
      "source": [
        "sns.histplot(df.Age)\n",
        "plt.show()"
      ],
      "metadata": {
        "colab": {
          "base_uri": "https://localhost:8080/",
          "height": 453
        },
        "id": "PlNrWkFr6PM5",
        "outputId": "7c5a7749-87e1-495f-a009-453a1e429ff9"
      },
      "execution_count": 263,
      "outputs": [
        {
          "output_type": "display_data",
          "data": {
            "text/plain": [
              "<Figure size 640x480 with 1 Axes>"
            ],
            "image/png": "[encoded data removed]"
          },
          "metadata": {}
        }
      ]
    },
    {
      "cell_type": "code",
      "source": [
        "sns.distplot(df.Age)\n",
        "plt.show()"
      ],
      "metadata": {
        "colab": {
          "base_uri": "https://localhost:8080/",
          "height": 640
        },
        "id": "20MpFZPh6PKf",
        "outputId": "c202bc00-c0b5-4f94-e02e-4d674781c168"
      },
      "execution_count": 264,
      "outputs": [
        {
          "output_type": "stream",
          "name": "stderr",
          "text": [
            "<ipython-input-264-0e50cf71bdb3>:1: UserWarning: \n",
            "\n",
            "`distplot` is a deprecated function and will be removed in seaborn v0.14.0.\n",
            "\n",
            "Please adapt your code to use either `displot` (a figure-level function with\n",
            "similar flexibility) or `histplot` (an axes-level function for histograms).\n",
            "\n",
            "For a guide to updating your code to use the new functions, please see\n",
            "https://gist.github.com/mwaskom/de44147ed2974457ad6372750bbe5751\n",
            "\n",
            "  sns.distplot(df.Age)\n"
          ]
        },
        {
          "output_type": "display_data",
          "data": {
            "text/plain": [
              "<Figure size 640x480 with 1 Axes>"
            ],
            "image/png": "[encoded data removed]"
          },
          "metadata": {}
        }
      ]
    },
    {
      "cell_type": "markdown",
      "source": [
        "BY OBSERVING THE ABOVE GRAPH WE CAN CONCLUDE THAT AGE IS A RIGHT SKEWED\n"
      ],
      "metadata": {
        "id": "7_6lCKVT86eQ"
      }
    },
    {
      "cell_type": "code",
      "source": [
        "sns.scatterplot(df.Age)"
      ],
      "metadata": {
        "colab": {
          "base_uri": "https://localhost:8080/",
          "height": 447
        },
        "id": "ziI7_V6D_SEz",
        "outputId": "7d61ced8-953d-4d0a-c892-c6bd265f030d"
      },
      "execution_count": 265,
      "outputs": [
        {
          "output_type": "execute_result",
          "data": {
            "text/plain": [
              "<Axes: ylabel='Age'>"
            ]
          },
          "metadata": {},
          "execution_count": 265
        },
        {
          "output_type": "display_data",
          "data": {
            "text/plain": [
              "<Figure size 640x480 with 1 Axes>"
            ],
            "image/png": "[encoded data removed]"
          },
          "metadata": {}
        }
      ]
    },
    {
      "cell_type": "markdown",
      "source": [
        "OUTLIER DETECTION"
      ],
      "metadata": {
        "id": "vmrqiZ8c9Sgy"
      }
    },
    {
      "cell_type": "code",
      "source": [
        "sns.boxplot(df.Age)"
      ],
      "metadata": {
        "colab": {
          "base_uri": "https://localhost:8080/",
          "height": 447
        },
        "id": "cmEFRBJ19DSs",
        "outputId": "02baa292-bc35-412b-bbf7-cb26aa50a23b"
      },
      "execution_count": 266,
      "outputs": [
        {
          "output_type": "execute_result",
          "data": {
            "text/plain": [
              "<Axes: >"
            ]
          },
          "metadata": {},
          "execution_count": 266
        },
        {
          "output_type": "display_data",
          "data": {
            "text/plain": [
              "<Figure size 640x480 with 1 Axes>"
            ],
            "image/png": "[encoded data removed]"
          },
          "metadata": {}
        }
      ]
    },
    {
      "cell_type": "markdown",
      "source": [
        "REPLACING THE OUTLIER WITH MEDIAN"
      ],
      "metadata": {
        "id": "4oMiorPA-Jm3"
      }
    },
    {
      "cell_type": "code",
      "source": [
        "q1 = df.Age.quantile(.25)\n",
        "q3 = df.Age.quantile(.75)"
      ],
      "metadata": {
        "id": "xKyrZN0n9Z92"
      },
      "execution_count": 267,
      "outputs": []
    },
    {
      "cell_type": "code",
      "source": [
        "IQR = q3 - q1\n",
        "IQR"
      ],
      "metadata": {
        "colab": {
          "base_uri": "https://localhost:8080/"
        },
        "id": "CasIAr0A-NRT",
        "outputId": "0f27434e-4204-48f9-8c14-b7827e764d28"
      },
      "execution_count": 268,
      "outputs": [
        {
          "output_type": "execute_result",
          "data": {
            "text/plain": [
              "25.0"
            ]
          },
          "metadata": {},
          "execution_count": 268
        }
      ]
    },
    {
      "cell_type": "code",
      "source": [
        "upper_limit = q3+1.5*IQR\n",
        "lower_limit = q1-1.5*IQR"
      ],
      "metadata": {
        "id": "RgHAowqx-ReB"
      },
      "execution_count": 269,
      "outputs": []
    },
    {
      "cell_type": "code",
      "source": [
        "df.median()"
      ],
      "metadata": {
        "colab": {
          "base_uri": "https://localhost:8080/"
        },
        "id": "jusCTU2S-Tlt",
        "outputId": "1b1c6ed3-1151-4fb7-db36-1e5bd791ff0b"
      },
      "execution_count": 270,
      "outputs": [
        {
          "output_type": "stream",
          "name": "stderr",
          "text": [
            "<ipython-input-270-6d467abf240d>:1: FutureWarning: The default value of numeric_only in DataFrame.median is deprecated. In a future version, it will default to False. In addition, specifying 'numeric_only=None' is deprecated. Select only valid columns or specify the value of numeric_only to silence this warning.\n",
            "  df.median()\n"
          ]
        },
        {
          "output_type": "execute_result",
          "data": {
            "text/plain": [
              "Age                   42.000000\n",
              "Education              6.000000\n",
              "Obligation             3.800000\n",
              "NEP                    3.666667\n",
              "Vacation.Behaviour     2.944444\n",
              "dtype: float64"
            ]
          },
          "metadata": {},
          "execution_count": 270
        }
      ]
    },
    {
      "cell_type": "code",
      "source": [
        "df['Age'] =np.where(df['Age']>upper_limit,42,df['Age'])"
      ],
      "metadata": {
        "id": "0DSHs9Mm-TjN"
      },
      "execution_count": 271,
      "outputs": []
    },
    {
      "cell_type": "code",
      "source": [
        "sns.boxplot(df.Age)"
      ],
      "metadata": {
        "colab": {
          "base_uri": "https://localhost:8080/",
          "height": 447
        },
        "id": "CLJLXkOS-evW",
        "outputId": "18ec549d-8384-4b5d-e50a-b9203e3a2ab4"
      },
      "execution_count": 272,
      "outputs": [
        {
          "output_type": "execute_result",
          "data": {
            "text/plain": [
              "<Axes: >"
            ]
          },
          "metadata": {},
          "execution_count": 272
        },
        {
          "output_type": "display_data",
          "data": {
            "text/plain": [
              "<Figure size 640x480 with 1 Axes>"
            ],
            "image/png": "[encoded data removed]"
          },
          "metadata": {}
        }
      ]
    },
    {
      "cell_type": "markdown",
      "source": [
        "BY OBSEVING THE ABOVE BOX PLOT WE CAN CONCLUDE THAT OULIERS ARE REPLACED WITH MEDIAN"
      ],
      "metadata": {
        "id": "OPeVk-gO-jph"
      }
    },
    {
      "cell_type": "code",
      "source": [
        "df.isnull().sum()\n"
      ],
      "metadata": {
        "colab": {
          "base_uri": "https://localhost:8080/"
        },
        "id": "_557Nbxi-jAZ",
        "outputId": "70a0672a-e40c-4a13-9723-925606b30a20"
      },
      "execution_count": 273,
      "outputs": [
        {
          "output_type": "execute_result",
          "data": {
            "text/plain": [
              "Gender                                0\n",
              "Age                                   0\n",
              "Education                             8\n",
              "Income                               66\n",
              "Income2                              66\n",
              "Occupation                           59\n",
              "State                                 0\n",
              "Relationship.Status                   4\n",
              "Obligation                            0\n",
              "Obligation2                           0\n",
              "NEP                                   0\n",
              "Vacation.Behaviour                   25\n",
              "rest and relax                        0\n",
              "luxury / be spoilt                    0\n",
              "do sports                             0\n",
              "excitement, a challenge               0\n",
              "not exceed planned budget             0\n",
              "realise creativity                    0\n",
              "fun and entertainment                 0\n",
              "good company                          0\n",
              "health and beauty                     0\n",
              "free-and-easy-going                   0\n",
              "entertainment facilities              0\n",
              "not care about prices                 0\n",
              "life style of the local people        0\n",
              "intense experience of nature          0\n",
              "cosiness/familiar atmosphere          0\n",
              "maintain unspoilt surroundings        0\n",
              "everything organised                  0\n",
              "unspoilt nature/natural landscape     0\n",
              "cultural offers                       0\n",
              "change of surroundings                0\n",
              "dtype: int64"
            ]
          },
          "metadata": {},
          "execution_count": 273
        }
      ]
    },
    {
      "cell_type": "markdown",
      "source": [
        "REPLACING NULL VALUES WITH MEDIAN"
      ],
      "metadata": {
        "id": "RduppAaNF-lC"
      }
    },
    {
      "cell_type": "code",
      "source": [
        "df['Vacation.Behaviour'].fillna(df['Vacation.Behaviour'].median(),inplace =True)\n",
        "df['Education'].fillna(df['Education'].median(),inplace =True)"
      ],
      "metadata": {
        "id": "OMYx2H8wCywg"
      },
      "execution_count": 274,
      "outputs": []
    },
    {
      "cell_type": "markdown",
      "source": [
        "USING LABELENCODER FOR CATEGORICAL"
      ],
      "metadata": {
        "id": "hw7aelIuGDSr"
      }
    },
    {
      "cell_type": "code",
      "source": [
        "from sklearn.preprocessing import LabelEncoder\n",
        "le=LabelEncoder()\n",
        "df[\"Occupation\"]=le.fit_transform(df[\"Occupation\"])\n",
        "df[\"Relationship.Status\"]=le.fit_transform(df[\"Relationship.Status\"])"
      ],
      "metadata": {
        "id": "0v5QbU6wDXAr"
      },
      "execution_count": 275,
      "outputs": []
    },
    {
      "cell_type": "code",
      "source": [
        "df['Occupation'].fillna(df['Occupation'].median(),inplace =True)"
      ],
      "metadata": {
        "id": "SNu22KCLEm2w"
      },
      "execution_count": 276,
      "outputs": []
    },
    {
      "cell_type": "code",
      "source": [
        "mode=df[\"Income2\"].mode()\n",
        "mode"
      ],
      "metadata": {
        "id": "Zi17vfJnEt2k",
        "colab": {
          "base_uri": "https://localhost:8080/"
        },
        "outputId": "f465fd39-8b1a-4d73-c801-c57b4f12ccdb"
      },
      "execution_count": 277,
      "outputs": [
        {
          "output_type": "execute_result",
          "data": {
            "text/plain": [
              "0    30-60k\n",
              "Name: Income2, dtype: category\n",
              "Categories (5, object): ['30-60k' < '90-120k' < '<30k' < '60-90k' < '>120k']"
            ]
          },
          "metadata": {},
          "execution_count": 277
        }
      ]
    },
    {
      "cell_type": "code",
      "source": [
        "df['Income2'].fillna(\"30-60k\", inplace=True)"
      ],
      "metadata": {
        "id": "k46glAfKtdzL"
      },
      "execution_count": 278,
      "outputs": []
    },
    {
      "cell_type": "code",
      "source": [
        "mode_value_2 = df['Income'].mode()\n",
        "mode_value_2"
      ],
      "metadata": {
        "colab": {
          "base_uri": "https://localhost:8080/"
        },
        "id": "0NtXKfRevZwo",
        "outputId": "5ad46e39-fd1b-4302-b900-d54954d8ee79"
      },
      "execution_count": 279,
      "outputs": [
        {
          "output_type": "execute_result",
          "data": {
            "text/plain": [
              "0    $30,001 to $60,000\n",
              "Name: Income, dtype: object"
            ]
          },
          "metadata": {},
          "execution_count": 279
        }
      ]
    },
    {
      "cell_type": "code",
      "source": [
        "df['Income'].fillna(\"$30,001 to $60,000\", inplace=True)"
      ],
      "metadata": {
        "id": "cb3b6Idhxs_K"
      },
      "execution_count": 280,
      "outputs": []
    },
    {
      "cell_type": "code",
      "source": [
        "df.isnull().sum()"
      ],
      "metadata": {
        "colab": {
          "base_uri": "https://localhost:8080/"
        },
        "id": "ok53zGJRts5A",
        "outputId": "8964779b-4e30-4716-80bb-9cd5e5095324"
      },
      "execution_count": 281,
      "outputs": [
        {
          "output_type": "execute_result",
          "data": {
            "text/plain": [
              "Gender                               0\n",
              "Age                                  0\n",
              "Education                            0\n",
              "Income                               0\n",
              "Income2                              0\n",
              "Occupation                           0\n",
              "State                                0\n",
              "Relationship.Status                  0\n",
              "Obligation                           0\n",
              "Obligation2                          0\n",
              "NEP                                  0\n",
              "Vacation.Behaviour                   0\n",
              "rest and relax                       0\n",
              "luxury / be spoilt                   0\n",
              "do sports                            0\n",
              "excitement, a challenge              0\n",
              "not exceed planned budget            0\n",
              "realise creativity                   0\n",
              "fun and entertainment                0\n",
              "good company                         0\n",
              "health and beauty                    0\n",
              "free-and-easy-going                  0\n",
              "entertainment facilities             0\n",
              "not care about prices                0\n",
              "life style of the local people       0\n",
              "intense experience of nature         0\n",
              "cosiness/familiar atmosphere         0\n",
              "maintain unspoilt surroundings       0\n",
              "everything organised                 0\n",
              "unspoilt nature/natural landscape    0\n",
              "cultural offers                      0\n",
              "change of surroundings               0\n",
              "dtype: int64"
            ]
          },
          "metadata": {},
          "execution_count": 281
        }
      ]
    },
    {
      "cell_type": "markdown",
      "source": [
        "PRINCIPLE COMPONENT ANALYSIS"
      ],
      "metadata": {
        "id": "Pfbfn--q18Yo"
      }
    },
    {
      "cell_type": "code",
      "source": [
        "df.head(2)"
      ],
      "metadata": {
        "colab": {
          "base_uri": "https://localhost:8080/",
          "height": 324
        },
        "id": "oitrhjyh2s7e",
        "outputId": "76507295-7a41-4a91-b9eb-bcadd774b96a"
      },
      "execution_count": 282,
      "outputs": [
        {
          "output_type": "execute_result",
          "data": {
            "text/plain": [
              "   Gender  Age  Education                Income Income2  Occupation State  \\\n",
              "0  Female   25        6.0    $30,001 to $60,000  30-60k           0   VIC   \n",
              "1  Female   31        8.0  $120,001 to $150,000   >120k           4    WA   \n",
              "\n",
              "   Relationship.Status  Obligation Obligation2  ...  entertainment facilities  \\\n",
              "0                    3         4.8          Q4  ...                        no   \n",
              "1                    1         3.3          Q1  ...                        no   \n",
              "\n",
              "   not care about prices life style of the local people  \\\n",
              "0                     no                             no   \n",
              "1                     no                            yes   \n",
              "\n",
              "  intense experience of nature cosiness/familiar atmosphere  \\\n",
              "0                           no                           no   \n",
              "1                           no                           no   \n",
              "\n",
              "  maintain unspoilt surroundings everything organised  \\\n",
              "0                             no                   no   \n",
              "1                             no                   no   \n",
              "\n",
              "  unspoilt nature/natural landscape cultural offers change of surroundings  \n",
              "0                                no              no                     no  \n",
              "1                                no              no                    yes  \n",
              "\n",
              "[2 rows x 32 columns]"
            ],
            "text/html": [
              "\n",
              "  <div id=\"df-0aa66150-f45d-49fe-9447-b77868c34c45\">\n",
              "    <div class=\"colab-df-container\">\n",
              "      <div>\n",
              "<style scoped>\n",
              "    .dataframe tbody tr th:only-of-type {\n",
              "        vertical-align: middle;\n",
              "    }\n",
              "\n",
              "    .dataframe tbody tr th {\n",
              "        vertical-align: top;\n",
              "    }\n",
              "\n",
              "    .dataframe thead th {\n",
              "        text-align: right;\n",
              "    }\n",
              "</style>\n",
              "<table border=\"1\" class=\"dataframe\">\n",
              "  <thead>\n",
              "    <tr style=\"text-align: right;\">\n",
              "      <th></th>\n",
              "      <th>Gender</th>\n",
              "      <th>Age</th>\n",
              "      <th>Education</th>\n",
              "      <th>Income</th>\n",
              "      <th>Income2</th>\n",
              "      <th>Occupation</th>\n",
              "      <th>State</th>\n",
              "      <th>Relationship.Status</th>\n",
              "      <th>Obligation</th>\n",
              "      <th>Obligation2</th>\n",
              "      <th>...</th>\n",
              "      <th>entertainment facilities</th>\n",
              "      <th>not care about prices</th>\n",
              "      <th>life style of the local people</th>\n",
              "      <th>intense experience of nature</th>\n",
              "      <th>cosiness/familiar atmosphere</th>\n",
              "      <th>maintain unspoilt surroundings</th>\n",
              "      <th>everything organised</th>\n",
              "      <th>unspoilt nature/natural landscape</th>\n",
              "      <th>cultural offers</th>\n",
              "      <th>change of surroundings</th>\n",
              "    </tr>\n",
              "  </thead>\n",
              "  <tbody>\n",
              "    <tr>\n",
              "      <th>0</th>\n",
              "      <td>Female</td>\n",
              "      <td>25</td>\n",
              "      <td>6.0</td>\n",
              "      <td>$30,001 to $60,000</td>\n",
              "      <td>30-60k</td>\n",
              "      <td>0</td>\n",
              "      <td>VIC</td>\n",
              "      <td>3</td>\n",
              "      <td>4.8</td>\n",
              "      <td>Q4</td>\n",
              "      <td>...</td>\n",
              "      <td>no</td>\n",
              "      <td>no</td>\n",
              "      <td>no</td>\n",
              "      <td>no</td>\n",
              "      <td>no</td>\n",
              "      <td>no</td>\n",
              "      <td>no</td>\n",
              "      <td>no</td>\n",
              "      <td>no</td>\n",
              "      <td>no</td>\n",
              "    </tr>\n",
              "    <tr>\n",
              "      <th>1</th>\n",
              "      <td>Female</td>\n",
              "      <td>31</td>\n",
              "      <td>8.0</td>\n",
              "      <td>$120,001 to $150,000</td>\n",
              "      <td>&gt;120k</td>\n",
              "      <td>4</td>\n",
              "      <td>WA</td>\n",
              "      <td>1</td>\n",
              "      <td>3.3</td>\n",
              "      <td>Q1</td>\n",
              "      <td>...</td>\n",
              "      <td>no</td>\n",
              "      <td>no</td>\n",
              "      <td>yes</td>\n",
              "      <td>no</td>\n",
              "      <td>no</td>\n",
              "      <td>no</td>\n",
              "      <td>no</td>\n",
              "      <td>no</td>\n",
              "      <td>no</td>\n",
              "      <td>yes</td>\n",
              "    </tr>\n",
              "  </tbody>\n",
              "</table>\n",
              "<p>2 rows × 32 columns</p>\n",
              "</div>\n",
              "      <button class=\"colab-df-convert\" onclick=\"convertToInteractive('df-0aa66150-f45d-49fe-9447-b77868c34c45')\"\n",
              "              title=\"Convert this dataframe to an interactive table.\"\n",
              "              style=\"display:none;\">\n",
              "        \n",
              "  <svg xmlns=\"http://www.w3.org/2000/svg\" height=\"24px\"viewBox=\"0 0 24 24\"\n",
              "       width=\"24px\">\n",
              "    <path d=\"M0 0h24v24H0V0z\" fill=\"none\"/>\n",
              "    <path d=\"M18.56 5.44l.94 2.06.94-2.06 2.06-.94-2.06-.94-.94-2.06-.94 2.06-2.06.94zm-11 1L8.5 8.5l.94-2.06 2.06-.94-2.06-.94L8.5 2.5l-.94 2.06-2.06.94zm10 10l.94 2.06.94-2.06 2.06-.94-2.06-.94-.94-2.06-.94 2.06-2.06.94z\"/><path d=\"M17.41 7.96l-1.37-1.37c-.4-.4-.92-.59-1.43-.59-.52 0-1.04.2-1.43.59L10.3 9.45l-7.72 7.72c-.78.78-.78 2.05 0 2.83L4 21.41c.39.39.9.59 1.41.59.51 0 1.02-.2 1.41-.59l7.78-7.78 2.81-2.81c.8-.78.8-2.07 0-2.86zM5.41 20L4 18.59l7.72-7.72 1.47 1.35L5.41 20z\"/>\n",
              "  </svg>\n",
              "      </button>\n",
              "      \n",
              "  <style>\n",
              "    .colab-df-container {\n",
              "      display:flex;\n",
              "      flex-wrap:wrap;\n",
              "      gap: 12px;\n",
              "    }\n",
              "\n",
              "    .colab-df-convert {\n",
              "      background-color: #E8F0FE;\n",
              "      border: none;\n",
              "      border-radius: 50%;\n",
              "      cursor: pointer;\n",
              "      display: none;\n",
              "      fill: #1967D2;\n",
              "      height: 32px;\n",
              "      padding: 0 0 0 0;\n",
              "      width: 32px;\n",
              "    }\n",
              "\n",
              "    .colab-df-convert:hover {\n",
              "      background-color: #E2EBFA;\n",
              "      box-shadow: 0px 1px 2px rgba(60, 64, 67, 0.3), 0px 1px 3px 1px rgba(60, 64, 67, 0.15);\n",
              "      fill: #174EA6;\n",
              "    }\n",
              "\n",
              "    [theme=dark] .colab-df-convert {\n",
              "      background-color: #3B4455;\n",
              "      fill: #D2E3FC;\n",
              "    }\n",
              "\n",
              "    [theme=dark] .colab-df-convert:hover {\n",
              "      background-color: #434B5C;\n",
              "      box-shadow: 0px 1px 3px 1px rgba(0, 0, 0, 0.15);\n",
              "      filter: drop-shadow(0px 1px 2px rgba(0, 0, 0, 0.3));\n",
              "      fill: #FFFFFF;\n",
              "    }\n",
              "  </style>\n",
              "\n",
              "      <script>\n",
              "        const buttonEl =\n",
              "          document.querySelector('#df-0aa66150-f45d-49fe-9447-b77868c34c45 button.colab-df-convert');\n",
              "        buttonEl.style.display =\n",
              "          google.colab.kernel.accessAllowed ? 'block' : 'none';\n",
              "\n",
              "        async function convertToInteractive(key) {\n",
              "          const element = document.querySelector('#df-0aa66150-f45d-49fe-9447-b77868c34c45');\n",
              "          const dataTable =\n",
              "            await google.colab.kernel.invokeFunction('convertToInteractive',\n",
              "                                                     [key], {});\n",
              "          if (!dataTable) return;\n",
              "\n",
              "          const docLinkHtml = 'Like what you see? Visit the ' +\n",
              "            '<a target=\"_blank\" href=https://colab.research.google.com/notebooks/data_table.ipynb>data table notebook</a>'\n",
              "            + ' to learn more about interactive tables.';\n",
              "          element.innerHTML = '';\n",
              "          dataTable['output_type'] = 'display_data';\n",
              "          await google.colab.output.renderOutput(dataTable, element);\n",
              "          const docLink = document.createElement('div');\n",
              "          docLink.innerHTML = docLinkHtml;\n",
              "          element.appendChild(docLink);\n",
              "        }\n",
              "      </script>\n",
              "    </div>\n",
              "  </div>\n",
              "  "
            ]
          },
          "metadata": {},
          "execution_count": 282
        }
      ]
    },
    {
      "cell_type": "code",
      "source": [
        "categorical_cols=[\"Gender\",\"Income\",\"Income2\",\"State\",\"Obligation2\",\"entertainment facilities\",\"rest and relax\",\"luxury / be spoilt\",\"do sports\",\"excitement, a challenge\",\"not exceed planned budget\",\"realise creativity\",\"fun and entertainment\",\"good company\",\"health and beauty\",\"free-and-easy-going\",\"entertainment facilities\",\"not care about prices\",\"life style of the local people\",\"intense experience of nature\",\"cosiness/familiar atmosphere\",\"maintain unspoilt surroundings\",\"everything organised\",\"unspoilt nature/natural landscape\",\"cultural offers\",\"change of surroundings\"]\n",
        "for col in categorical_cols:\n",
        "    df[col] = le.fit_transform(df[col])"
      ],
      "metadata": {
        "id": "cJv05k02x4R7"
      },
      "execution_count": 283,
      "outputs": []
    },
    {
      "cell_type": "code",
      "source": [
        "df.head()"
      ],
      "metadata": {
        "colab": {
          "base_uri": "https://localhost:8080/",
          "height": 349
        },
        "id": "Vzr36WkH4Hr7",
        "outputId": "923aec7b-f669-4c67-8174-5ef497aa68b7"
      },
      "execution_count": 284,
      "outputs": [
        {
          "output_type": "execute_result",
          "data": {
            "text/plain": [
              "   Gender  Age  Education  Income  Income2  Occupation  State  \\\n",
              "0       0   25        6.0       4        0           0      6   \n",
              "1       0   31        8.0       0        4           4      7   \n",
              "2       1   21        3.0       6        2          11      1   \n",
              "3       0   18        2.0       4        0          10      1   \n",
              "4       1   61        3.0       7        3           5      7   \n",
              "\n",
              "   Relationship.Status  Obligation  Obligation2  ...  \\\n",
              "0                    3    4.800000            3  ...   \n",
              "1                    1    3.300000            0  ...   \n",
              "2                    3    3.400000            1  ...   \n",
              "3                    3    2.633333            0  ...   \n",
              "4                    1    3.400000            1  ...   \n",
              "\n",
              "   entertainment facilities  not care about prices  \\\n",
              "0                         0                      0   \n",
              "1                         0                      0   \n",
              "2                         0                      1   \n",
              "3                         1                      0   \n",
              "4                         0                      0   \n",
              "\n",
              "   life style of the local people  intense experience of nature  \\\n",
              "0                               0                             0   \n",
              "1                               1                             0   \n",
              "2                               1                             0   \n",
              "3                               0                             1   \n",
              "4                               1                             0   \n",
              "\n",
              "   cosiness/familiar atmosphere  maintain unspoilt surroundings  \\\n",
              "0                             0                               0   \n",
              "1                             0                               0   \n",
              "2                             1                               0   \n",
              "3                             0                               0   \n",
              "4                             0                               1   \n",
              "\n",
              "   everything organised  unspoilt nature/natural landscape  cultural offers  \\\n",
              "0                     0                                  0                0   \n",
              "1                     0                                  0                0   \n",
              "2                     0                                  0                1   \n",
              "3                     0                                  0                0   \n",
              "4                     0                                  0                0   \n",
              "\n",
              "   change of surroundings  \n",
              "0                       0  \n",
              "1                       1  \n",
              "2                       0  \n",
              "3                       1  \n",
              "4                       0  \n",
              "\n",
              "[5 rows x 32 columns]"
            ],
            "text/html": [
              "\n",
              "  <div id=\"df-44282313-b570-40ab-a83e-5957bdf04427\">\n",
              "    <div class=\"colab-df-container\">\n",
              "      <div>\n",
              "<style scoped>\n",
              "    .dataframe tbody tr th:only-of-type {\n",
              "        vertical-align: middle;\n",
              "    }\n",
              "\n",
              "    .dataframe tbody tr th {\n",
              "        vertical-align: top;\n",
              "    }\n",
              "\n",
              "    .dataframe thead th {\n",
              "        text-align: right;\n",
              "    }\n",
              "</style>\n",
              "<table border=\"1\" class=\"dataframe\">\n",
              "  <thead>\n",
              "    <tr style=\"text-align: right;\">\n",
              "      <th></th>\n",
              "      <th>Gender</th>\n",
              "      <th>Age</th>\n",
              "      <th>Education</th>\n",
              "      <th>Income</th>\n",
              "      <th>Income2</th>\n",
              "      <th>Occupation</th>\n",
              "      <th>State</th>\n",
              "      <th>Relationship.Status</th>\n",
              "      <th>Obligation</th>\n",
              "      <th>Obligation2</th>\n",
              "      <th>...</th>\n",
              "      <th>entertainment facilities</th>\n",
              "      <th>not care about prices</th>\n",
              "      <th>life style of the local people</th>\n",
              "      <th>intense experience of nature</th>\n",
              "      <th>cosiness/familiar atmosphere</th>\n",
              "      <th>maintain unspoilt surroundings</th>\n",
              "      <th>everything organised</th>\n",
              "      <th>unspoilt nature/natural landscape</th>\n",
              "      <th>cultural offers</th>\n",
              "      <th>change of surroundings</th>\n",
              "    </tr>\n",
              "  </thead>\n",
              "  <tbody>\n",
              "    <tr>\n",
              "      <th>0</th>\n",
              "      <td>0</td>\n",
              "      <td>25</td>\n",
              "      <td>6.0</td>\n",
              "      <td>4</td>\n",
              "      <td>0</td>\n",
              "      <td>0</td>\n",
              "      <td>6</td>\n",
              "      <td>3</td>\n",
              "      <td>4.800000</td>\n",
              "      <td>3</td>\n",
              "      <td>...</td>\n",
              "      <td>0</td>\n",
              "      <td>0</td>\n",
              "      <td>0</td>\n",
              "      <td>0</td>\n",
              "      <td>0</td>\n",
              "      <td>0</td>\n",
              "      <td>0</td>\n",
              "      <td>0</td>\n",
              "      <td>0</td>\n",
              "      <td>0</td>\n",
              "    </tr>\n",
              "    <tr>\n",
              "      <th>1</th>\n",
              "      <td>0</td>\n",
              "      <td>31</td>\n",
              "      <td>8.0</td>\n",
              "      <td>0</td>\n",
              "      <td>4</td>\n",
              "      <td>4</td>\n",
              "      <td>7</td>\n",
              "      <td>1</td>\n",
              "      <td>3.300000</td>\n",
              "      <td>0</td>\n",
              "      <td>...</td>\n",
              "      <td>0</td>\n",
              "      <td>0</td>\n",
              "      <td>1</td>\n",
              "      <td>0</td>\n",
              "      <td>0</td>\n",
              "      <td>0</td>\n",
              "      <td>0</td>\n",
              "      <td>0</td>\n",
              "      <td>0</td>\n",
              "      <td>1</td>\n",
              "    </tr>\n",
              "    <tr>\n",
              "      <th>2</th>\n",
              "      <td>1</td>\n",
              "      <td>21</td>\n",
              "      <td>3.0</td>\n",
              "      <td>6</td>\n",
              "      <td>2</td>\n",
              "      <td>11</td>\n",
              "      <td>1</td>\n",
              "      <td>3</td>\n",
              "      <td>3.400000</td>\n",
              "      <td>1</td>\n",
              "      <td>...</td>\n",
              "      <td>0</td>\n",
              "      <td>1</td>\n",
              "      <td>1</td>\n",
              "      <td>0</td>\n",
              "      <td>1</td>\n",
              "      <td>0</td>\n",
              "      <td>0</td>\n",
              "      <td>0</td>\n",
              "      <td>1</td>\n",
              "      <td>0</td>\n",
              "    </tr>\n",
              "    <tr>\n",
              "      <th>3</th>\n",
              "      <td>0</td>\n",
              "      <td>18</td>\n",
              "      <td>2.0</td>\n",
              "      <td>4</td>\n",
              "      <td>0</td>\n",
              "      <td>10</td>\n",
              "      <td>1</td>\n",
              "      <td>3</td>\n",
              "      <td>2.633333</td>\n",
              "      <td>0</td>\n",
              "      <td>...</td>\n",
              "      <td>1</td>\n",
              "      <td>0</td>\n",
              "      <td>0</td>\n",
              "      <td>1</td>\n",
              "      <td>0</td>\n",
              "      <td>0</td>\n",
              "      <td>0</td>\n",
              "      <td>0</td>\n",
              "      <td>0</td>\n",
              "      <td>1</td>\n",
              "    </tr>\n",
              "    <tr>\n",
              "      <th>4</th>\n",
              "      <td>1</td>\n",
              "      <td>61</td>\n",
              "      <td>3.0</td>\n",
              "      <td>7</td>\n",
              "      <td>3</td>\n",
              "      <td>5</td>\n",
              "      <td>7</td>\n",
              "      <td>1</td>\n",
              "      <td>3.400000</td>\n",
              "      <td>1</td>\n",
              "      <td>...</td>\n",
              "      <td>0</td>\n",
              "      <td>0</td>\n",
              "      <td>1</td>\n",
              "      <td>0</td>\n",
              "      <td>0</td>\n",
              "      <td>1</td>\n",
              "      <td>0</td>\n",
              "      <td>0</td>\n",
              "      <td>0</td>\n",
              "      <td>0</td>\n",
              "    </tr>\n",
              "  </tbody>\n",
              "</table>\n",
              "<p>5 rows × 32 columns</p>\n",
              "</div>\n",
              "      <button class=\"colab-df-convert\" onclick=\"convertToInteractive('df-44282313-b570-40ab-a83e-5957bdf04427')\"\n",
              "              title=\"Convert this dataframe to an interactive table.\"\n",
              "              style=\"display:none;\">\n",
              "        \n",
              "  <svg xmlns=\"http://www.w3.org/2000/svg\" height=\"24px\"viewBox=\"0 0 24 24\"\n",
              "       width=\"24px\">\n",
              "    <path d=\"M0 0h24v24H0V0z\" fill=\"none\"/>\n",
              "    <path d=\"M18.56 5.44l.94 2.06.94-2.06 2.06-.94-2.06-.94-.94-2.06-.94 2.06-2.06.94zm-11 1L8.5 8.5l.94-2.06 2.06-.94-2.06-.94L8.5 2.5l-.94 2.06-2.06.94zm10 10l.94 2.06.94-2.06 2.06-.94-2.06-.94-.94-2.06-.94 2.06-2.06.94z\"/><path d=\"M17.41 7.96l-1.37-1.37c-.4-.4-.92-.59-1.43-.59-.52 0-1.04.2-1.43.59L10.3 9.45l-7.72 7.72c-.78.78-.78 2.05 0 2.83L4 21.41c.39.39.9.59 1.41.59.51 0 1.02-.2 1.41-.59l7.78-7.78 2.81-2.81c.8-.78.8-2.07 0-2.86zM5.41 20L4 18.59l7.72-7.72 1.47 1.35L5.41 20z\"/>\n",
              "  </svg>\n",
              "      </button>\n",
              "      \n",
              "  <style>\n",
              "    .colab-df-container {\n",
              "      display:flex;\n",
              "      flex-wrap:wrap;\n",
              "      gap: 12px;\n",
              "    }\n",
              "\n",
              "    .colab-df-convert {\n",
              "      background-color: #E8F0FE;\n",
              "      border: none;\n",
              "      border-radius: 50%;\n",
              "      cursor: pointer;\n",
              "      display: none;\n",
              "      fill: #1967D2;\n",
              "      height: 32px;\n",
              "      padding: 0 0 0 0;\n",
              "      width: 32px;\n",
              "    }\n",
              "\n",
              "    .colab-df-convert:hover {\n",
              "      background-color: #E2EBFA;\n",
              "      box-shadow: 0px 1px 2px rgba(60, 64, 67, 0.3), 0px 1px 3px 1px rgba(60, 64, 67, 0.15);\n",
              "      fill: #174EA6;\n",
              "    }\n",
              "\n",
              "    [theme=dark] .colab-df-convert {\n",
              "      background-color: #3B4455;\n",
              "      fill: #D2E3FC;\n",
              "    }\n",
              "\n",
              "    [theme=dark] .colab-df-convert:hover {\n",
              "      background-color: #434B5C;\n",
              "      box-shadow: 0px 1px 3px 1px rgba(0, 0, 0, 0.15);\n",
              "      filter: drop-shadow(0px 1px 2px rgba(0, 0, 0, 0.3));\n",
              "      fill: #FFFFFF;\n",
              "    }\n",
              "  </style>\n",
              "\n",
              "      <script>\n",
              "        const buttonEl =\n",
              "          document.querySelector('#df-44282313-b570-40ab-a83e-5957bdf04427 button.colab-df-convert');\n",
              "        buttonEl.style.display =\n",
              "          google.colab.kernel.accessAllowed ? 'block' : 'none';\n",
              "\n",
              "        async function convertToInteractive(key) {\n",
              "          const element = document.querySelector('#df-44282313-b570-40ab-a83e-5957bdf04427');\n",
              "          const dataTable =\n",
              "            await google.colab.kernel.invokeFunction('convertToInteractive',\n",
              "                                                     [key], {});\n",
              "          if (!dataTable) return;\n",
              "\n",
              "          const docLinkHtml = 'Like what you see? Visit the ' +\n",
              "            '<a target=\"_blank\" href=https://colab.research.google.com/notebooks/data_table.ipynb>data table notebook</a>'\n",
              "            + ' to learn more about interactive tables.';\n",
              "          element.innerHTML = '';\n",
              "          dataTable['output_type'] = 'display_data';\n",
              "          await google.colab.output.renderOutput(dataTable, element);\n",
              "          const docLink = document.createElement('div');\n",
              "          docLink.innerHTML = docLinkHtml;\n",
              "          element.appendChild(docLink);\n",
              "        }\n",
              "      </script>\n",
              "    </div>\n",
              "  </div>\n",
              "  "
            ]
          },
          "metadata": {},
          "execution_count": 284
        }
      ]
    },
    {
      "cell_type": "code",
      "source": [
        "df.isnull().sum()"
      ],
      "metadata": {
        "colab": {
          "base_uri": "https://localhost:8080/"
        },
        "id": "xkTA4ztd4L78",
        "outputId": "2a90a9a0-7986-4fb0-e2a3-2fb51e7fe680"
      },
      "execution_count": 285,
      "outputs": [
        {
          "output_type": "execute_result",
          "data": {
            "text/plain": [
              "Gender                               0\n",
              "Age                                  0\n",
              "Education                            0\n",
              "Income                               0\n",
              "Income2                              0\n",
              "Occupation                           0\n",
              "State                                0\n",
              "Relationship.Status                  0\n",
              "Obligation                           0\n",
              "Obligation2                          0\n",
              "NEP                                  0\n",
              "Vacation.Behaviour                   0\n",
              "rest and relax                       0\n",
              "luxury / be spoilt                   0\n",
              "do sports                            0\n",
              "excitement, a challenge              0\n",
              "not exceed planned budget            0\n",
              "realise creativity                   0\n",
              "fun and entertainment                0\n",
              "good company                         0\n",
              "health and beauty                    0\n",
              "free-and-easy-going                  0\n",
              "entertainment facilities             0\n",
              "not care about prices                0\n",
              "life style of the local people       0\n",
              "intense experience of nature         0\n",
              "cosiness/familiar atmosphere         0\n",
              "maintain unspoilt surroundings       0\n",
              "everything organised                 0\n",
              "unspoilt nature/natural landscape    0\n",
              "cultural offers                      0\n",
              "change of surroundings               0\n",
              "dtype: int64"
            ]
          },
          "metadata": {},
          "execution_count": 285
        }
      ]
    },
    {
      "cell_type": "code",
      "source": [
        "df.info()"
      ],
      "metadata": {
        "colab": {
          "base_uri": "https://localhost:8080/"
        },
        "id": "nX4pVGwn4LyW",
        "outputId": "d57c38fc-ff78-4673-9923-57136e913635"
      },
      "execution_count": 288,
      "outputs": [
        {
          "output_type": "stream",
          "name": "stdout",
          "text": [
            "<class 'pandas.core.frame.DataFrame'>\n",
            "RangeIndex: 1000 entries, 0 to 999\n",
            "Data columns (total 32 columns):\n",
            " #   Column                             Non-Null Count  Dtype  \n",
            "---  ------                             --------------  -----  \n",
            " 0   Gender                             1000 non-null   int64  \n",
            " 1   Age                                1000 non-null   int64  \n",
            " 2   Education                          1000 non-null   float64\n",
            " 3   Income                             1000 non-null   int64  \n",
            " 4   Income2                            1000 non-null   int64  \n",
            " 5   Occupation                         1000 non-null   int64  \n",
            " 6   State                              1000 non-null   int64  \n",
            " 7   Relationship.Status                1000 non-null   int64  \n",
            " 8   Obligation                         1000 non-null   float64\n",
            " 9   Obligation2                        1000 non-null   int64  \n",
            " 10  NEP                                1000 non-null   float64\n",
            " 11  Vacation.Behaviour                 1000 non-null   float64\n",
            " 12  rest and relax                     1000 non-null   int64  \n",
            " 13  luxury / be spoilt                 1000 non-null   int64  \n",
            " 14  do sports                          1000 non-null   int64  \n",
            " 15  excitement, a challenge            1000 non-null   int64  \n",
            " 16  not exceed planned budget          1000 non-null   int64  \n",
            " 17  realise creativity                 1000 non-null   int64  \n",
            " 18  fun and entertainment              1000 non-null   int64  \n",
            " 19  good company                       1000 non-null   int64  \n",
            " 20  health and beauty                  1000 non-null   int64  \n",
            " 21  free-and-easy-going                1000 non-null   int64  \n",
            " 22  entertainment facilities           1000 non-null   int64  \n",
            " 23  not care about prices              1000 non-null   int64  \n",
            " 24  life style of the local people     1000 non-null   int64  \n",
            " 25  intense experience of nature       1000 non-null   int64  \n",
            " 26  cosiness/familiar atmosphere       1000 non-null   int64  \n",
            " 27  maintain unspoilt surroundings     1000 non-null   int64  \n",
            " 28  everything organised               1000 non-null   int64  \n",
            " 29  unspoilt nature/natural landscape  1000 non-null   int64  \n",
            " 30  cultural offers                    1000 non-null   int64  \n",
            " 31  change of surroundings             1000 non-null   int64  \n",
            "dtypes: float64(4), int64(28)\n",
            "memory usage: 250.1 KB\n"
          ]
        }
      ]
    },
    {
      "cell_type": "code",
      "source": [
        "df.Income.unique()"
      ],
      "metadata": {
        "colab": {
          "base_uri": "https://localhost:8080/"
        },
        "id": "FZHmJ6D75o-1",
        "outputId": "b65268e2-be38-47cd-954f-4d6864ffffab"
      },
      "execution_count": 289,
      "outputs": [
        {
          "output_type": "execute_result",
          "data": {
            "text/plain": [
              "array([4, 0, 6, 7, 5, 2, 8, 1, 3])"
            ]
          },
          "metadata": {},
          "execution_count": 289
        }
      ]
    },
    {
      "cell_type": "code",
      "source": [
        "df.Income2.unique()"
      ],
      "metadata": {
        "colab": {
          "base_uri": "https://localhost:8080/"
        },
        "id": "R5m5dKJK5zD8",
        "outputId": "25b9812d-cdfe-4bfd-a47c-bbd046453327"
      },
      "execution_count": 290,
      "outputs": [
        {
          "output_type": "execute_result",
          "data": {
            "text/plain": [
              "array([0, 4, 2, 3, 1])"
            ]
          },
          "metadata": {},
          "execution_count": 290
        }
      ]
    },
    {
      "cell_type": "code",
      "source": [
        "from sklearn.preprocessing import MinMaxScaler,StandardScaler"
      ],
      "metadata": {
        "id": "vfBH7dUv6aSZ"
      },
      "execution_count": 292,
      "outputs": []
    },
    {
      "cell_type": "code",
      "source": [
        "scaler=StandardScaler()\n",
        "scaler.fit(df)"
      ],
      "metadata": {
        "colab": {
          "base_uri": "https://localhost:8080/",
          "height": 75
        },
        "id": "tgzkNlDS6aPz",
        "outputId": "a484fa3d-70b3-4920-e58b-daa7fad4383c"
      },
      "execution_count": 293,
      "outputs": [
        {
          "output_type": "execute_result",
          "data": {
            "text/plain": [
              "StandardScaler()"
            ],
            "text/html": [
              "<style>#sk-container-id-1 {color: black;background-color: white;}#sk-container-id-1 pre{padding: 0;}#sk-container-id-1 div.sk-toggleable {background-color: white;}#sk-container-id-1 label.sk-toggleable__label {cursor: pointer;display: block;width: 100%;margin-bottom: 0;padding: 0.3em;box-sizing: border-box;text-align: center;}#sk-container-id-1 label.sk-toggleable__label-arrow:before {content: \"▸\";float: left;margin-right: 0.25em;color: #696969;}#sk-container-id-1 label.sk-toggleable__label-arrow:hover:before {color: black;}#sk-container-id-1 div.sk-estimator:hover label.sk-toggleable__label-arrow:before {color: black;}#sk-container-id-1 div.sk-toggleable__content {max-height: 0;max-width: 0;overflow: hidden;text-align: left;background-color: #f0f8ff;}#sk-container-id-1 div.sk-toggleable__content pre {margin: 0.2em;color: black;border-radius: 0.25em;background-color: #f0f8ff;}#sk-container-id-1 input.sk-toggleable__control:checked~div.sk-toggleable__content {max-height: 200px;max-width: 100%;overflow: auto;}#sk-container-id-1 input.sk-toggleable__control:checked~label.sk-toggleable__label-arrow:before {content: \"▾\";}#sk-container-id-1 div.sk-estimator input.sk-toggleable__control:checked~label.sk-toggleable__label {background-color: #d4ebff;}#sk-container-id-1 div.sk-label input.sk-toggleable__control:checked~label.sk-toggleable__label {background-color: #d4ebff;}#sk-container-id-1 input.sk-hidden--visually {border: 0;clip: rect(1px 1px 1px 1px);clip: rect(1px, 1px, 1px, 1px);height: 1px;margin: -1px;overflow: hidden;padding: 0;position: absolute;width: 1px;}#sk-container-id-1 div.sk-estimator {font-family: monospace;background-color: #f0f8ff;border: 1px dotted black;border-radius: 0.25em;box-sizing: border-box;margin-bottom: 0.5em;}#sk-container-id-1 div.sk-estimator:hover {background-color: #d4ebff;}#sk-container-id-1 div.sk-parallel-item::after {content: \"\";width: 100%;border-bottom: 1px solid gray;flex-grow: 1;}#sk-container-id-1 div.sk-label:hover label.sk-toggleable__label {background-color: #d4ebff;}#sk-container-id-1 div.sk-serial::before {content: \"\";position: absolute;border-left: 1px solid gray;box-sizing: border-box;top: 0;bottom: 0;left: 50%;z-index: 0;}#sk-container-id-1 div.sk-serial {display: flex;flex-direction: column;align-items: center;background-color: white;padding-right: 0.2em;padding-left: 0.2em;position: relative;}#sk-container-id-1 div.sk-item {position: relative;z-index: 1;}#sk-container-id-1 div.sk-parallel {display: flex;align-items: stretch;justify-content: center;background-color: white;position: relative;}#sk-container-id-1 div.sk-item::before, #sk-container-id-1 div.sk-parallel-item::before {content: \"\";position: absolute;border-left: 1px solid gray;box-sizing: border-box;top: 0;bottom: 0;left: 50%;z-index: -1;}#sk-container-id-1 div.sk-parallel-item {display: flex;flex-direction: column;z-index: 1;position: relative;background-color: white;}#sk-container-id-1 div.sk-parallel-item:first-child::after {align-self: flex-end;width: 50%;}#sk-container-id-1 div.sk-parallel-item:last-child::after {align-self: flex-start;width: 50%;}#sk-container-id-1 div.sk-parallel-item:only-child::after {width: 0;}#sk-container-id-1 div.sk-dashed-wrapped {border: 1px dashed gray;margin: 0 0.4em 0.5em 0.4em;box-sizing: border-box;padding-bottom: 0.4em;background-color: white;}#sk-container-id-1 div.sk-label label {font-family: monospace;font-weight: bold;display: inline-block;line-height: 1.2em;}#sk-container-id-1 div.sk-label-container {text-align: center;}#sk-container-id-1 div.sk-container {/* jupyter's `normalize.less` sets `[hidden] { display: none; }` but bootstrap.min.css set `[hidden] { display: none !important; }` so we also need the `!important` here to be able to override the default hidden behavior on the sphinx rendered scikit-learn.org. See: https://github.com/scikit-learn/scikit-learn/issues/21755 */display: inline-block !important;position: relative;}#sk-container-id-1 div.sk-text-repr-fallback {display: none;}</style><div id=\"sk-container-id-1\" class=\"sk-top-container\"><div class=\"sk-text-repr-fallback\"><pre>StandardScaler()</pre><b>In a Jupyter environment, please rerun this cell to show the HTML representation or trust the notebook. <br />On GitHub, the HTML representation is unable to render, please try loading this page with nbviewer.org.</b></div><div class=\"sk-container\" hidden><div class=\"sk-item\"><div class=\"sk-estimator sk-toggleable\"><input class=\"sk-toggleable__control sk-hidden--visually\" id=\"sk-estimator-id-1\" type=\"checkbox\" checked><label for=\"sk-estimator-id-1\" class=\"sk-toggleable__label sk-toggleable__label-arrow\">StandardScaler</label><div class=\"sk-toggleable__content\"><pre>StandardScaler()</pre></div></div></div></div></div>"
            ]
          },
          "metadata": {},
          "execution_count": 293
        }
      ]
    },
    {
      "cell_type": "code",
      "source": [
        "scaled_data=scaler.transform(df)\n",
        "scaled_data"
      ],
      "metadata": {
        "colab": {
          "base_uri": "https://localhost:8080/"
        },
        "id": "W-x3ARlt6aNR",
        "outputId": "9f161b2d-9080-46e0-f486-43929d135719"
      },
      "execution_count": 295,
      "outputs": [
        {
          "output_type": "execute_result",
          "data": {
            "text/plain": [
              "array([[-1.02429504, -1.32635886,  0.48764467, ..., -0.59737099,\n",
              "        -0.62825165, -1.43135617],\n",
              "       [-1.02429504, -0.90981067,  1.31626774, ..., -0.59737099,\n",
              "        -0.62825165,  0.69863813],\n",
              "       [ 0.97628121, -1.60405765, -0.75528992, ..., -0.59737099,\n",
              "         1.59171885, -1.43135617],\n",
              "       ...,\n",
              "       [ 0.97628121, -0.21556369,  1.31626774, ..., -0.59737099,\n",
              "        -0.62825165,  0.69863813],\n",
              "       [-1.02429504, -0.14613899, -0.75528992, ..., -0.59737099,\n",
              "        -0.62825165, -1.43135617],\n",
              "       [-1.02429504, -0.84038597,  0.48764467, ..., -0.59737099,\n",
              "        -0.62825165,  0.69863813]])"
            ]
          },
          "metadata": {},
          "execution_count": 295
        }
      ]
    },
    {
      "cell_type": "code",
      "source": [
        "from sklearn.decomposition import PCA\n",
        "pca=PCA(n_components=3)"
      ],
      "metadata": {
        "id": "rhYMFHPj6aKn"
      },
      "execution_count": 296,
      "outputs": []
    },
    {
      "cell_type": "code",
      "source": [
        "pca.fit(scaled_data)\n",
        "x_pca=pca.transform(scaled_data)"
      ],
      "metadata": {
        "id": "IqB4cpGA7fVc"
      },
      "execution_count": 297,
      "outputs": []
    },
    {
      "cell_type": "code",
      "source": [
        "scaled_data.shape"
      ],
      "metadata": {
        "colab": {
          "base_uri": "https://localhost:8080/"
        },
        "id": "65iRFgIx7j9q",
        "outputId": "9e26e6b4-b5c5-4d88-bd4a-1eb96b6ab8f4"
      },
      "execution_count": 298,
      "outputs": [
        {
          "output_type": "execute_result",
          "data": {
            "text/plain": [
              "(1000, 32)"
            ]
          },
          "metadata": {},
          "execution_count": 298
        }
      ]
    },
    {
      "cell_type": "code",
      "source": [
        "x_pca.shape"
      ],
      "metadata": {
        "colab": {
          "base_uri": "https://localhost:8080/"
        },
        "id": "ut6aQ6Vh7maL",
        "outputId": "24f6ad01-1de3-4228-c502-38f7b91c243b"
      },
      "execution_count": 299,
      "outputs": [
        {
          "output_type": "execute_result",
          "data": {
            "text/plain": [
              "(1000, 3)"
            ]
          },
          "metadata": {},
          "execution_count": 299
        }
      ]
    },
    {
      "cell_type": "code",
      "source": [
        "scaled_data"
      ],
      "metadata": {
        "colab": {
          "base_uri": "https://localhost:8080/"
        },
        "id": "PYPxZp8d7ogF",
        "outputId": "8bbdeaa9-5edb-4bf1-9e31-7129dd1b2c2a"
      },
      "execution_count": 300,
      "outputs": [
        {
          "output_type": "execute_result",
          "data": {
            "text/plain": [
              "array([[-1.02429504, -1.32635886,  0.48764467, ..., -0.59737099,\n",
              "        -0.62825165, -1.43135617],\n",
              "       [-1.02429504, -0.90981067,  1.31626774, ..., -0.59737099,\n",
              "        -0.62825165,  0.69863813],\n",
              "       [ 0.97628121, -1.60405765, -0.75528992, ..., -0.59737099,\n",
              "         1.59171885, -1.43135617],\n",
              "       ...,\n",
              "       [ 0.97628121, -0.21556369,  1.31626774, ..., -0.59737099,\n",
              "        -0.62825165,  0.69863813],\n",
              "       [-1.02429504, -0.14613899, -0.75528992, ..., -0.59737099,\n",
              "        -0.62825165, -1.43135617],\n",
              "       [-1.02429504, -0.84038597,  0.48764467, ..., -0.59737099,\n",
              "        -0.62825165,  0.69863813]])"
            ]
          },
          "metadata": {},
          "execution_count": 300
        }
      ]
    },
    {
      "cell_type": "code",
      "source": [
        "x_pca"
      ],
      "metadata": {
        "colab": {
          "base_uri": "https://localhost:8080/"
        },
        "id": "IfwB13OG7tHf",
        "outputId": "a565132e-90b4-4513-ff9a-29ca5a23176c"
      },
      "execution_count": 301,
      "outputs": [
        {
          "output_type": "execute_result",
          "data": {
            "text/plain": [
              "array([[-1.72221519, -1.96004806,  0.8592725 ],\n",
              "       [-1.73835447,  1.95827656,  1.05972881],\n",
              "       [-2.21321839,  1.27693681,  0.64291917],\n",
              "       ...,\n",
              "       [-0.90147691, -0.47728539, -0.22919058],\n",
              "       [-0.93278134, -1.98346589,  0.42645479],\n",
              "       [-1.16216276,  1.90492485,  0.92253751]])"
            ]
          },
          "metadata": {},
          "execution_count": 301
        }
      ]
    },
    {
      "cell_type": "code",
      "source": [
        "\n",
        "plt.figure(figsize=(8,6))\n",
        "plt.scatter(x_pca[:,1],x_pca[:,2])\n",
        "plt.xlabel('second principle component')\n",
        "plt.ylabel('Third principle component')"
      ],
      "metadata": {
        "colab": {
          "base_uri": "https://localhost:8080/",
          "height": 559
        },
        "id": "_9Yu29v77uV4",
        "outputId": "5eafac89-0736-4039-edc2-7903e38a556d"
      },
      "execution_count": 304,
      "outputs": [
        {
          "output_type": "execute_result",
          "data": {
            "text/plain": [
              "Text(0, 0.5, 'Third principle component')"
            ]
          },
          "metadata": {},
          "execution_count": 304
        },
        {
          "output_type": "display_data",
          "data": {
            "text/plain": [
              "<Figure size 800x600 with 1 Axes>"
            ],
            "image/png": "[encoded data removed]"
          },
          "metadata": {}
        }
      ]
    }
  ]
}